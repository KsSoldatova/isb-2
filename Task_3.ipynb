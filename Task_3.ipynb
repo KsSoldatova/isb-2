{
 "cells": [
  {
   "cell_type": "code",
   "execution_count": 4,
   "metadata": {},
   "outputs": [
    {
     "name": "stdout",
     "output_type": "stream",
     "text": [
      "P = 0.8567913899300152\n"
     ]
    }
   ],
   "source": [
    "import scipy\n",
    "\n",
    "\n",
    "sequence = \"01010001110011010011101011010011101101001111010010110000100100010010010111000010011101111111101111000111110000010100000100101011\"\n",
    "n = len(sequence)\n",
    "mas = [0] * 16\n",
    "for i in range(16):\n",
    "    mas[i] = [0] * 8\n",
    "count = 0\n",
    "for i in range(16):\n",
    "    for j in range(8):\n",
    "        mas[i][j] = sequence[count]\n",
    "        j += 1\n",
    "        count += 1\n",
    "    i += 1\n",
    "max_value = []\n",
    "for i in range(16):\n",
    "    maximum = 0\n",
    "    count = 0\n",
    "    for j in range(8):\n",
    "        if mas[i][j] == '1' and j != 7:\n",
    "            count += 1\n",
    "        elif mas[i][j] == '1' and j == 7:\n",
    "            count += 1\n",
    "            if maximum < count:\n",
    "                maximum = count\n",
    "        elif mas[i][j] == '0':\n",
    "            if maximum < count:\n",
    "                maximum = count\n",
    "            count = 0\n",
    "    max_value.append(maximum)\n",
    "list_v = [0, 0, 0, 0]\n",
    "for elem in max_value:\n",
    "    if elem <= 1:\n",
    "        list_v[0] += 1\n",
    "    if elem == 2:\n",
    "        list_v[1] += 1\n",
    "    if elem == 3:\n",
    "        list_v[2] += 1\n",
    "    if elem >= 4:\n",
    "        list_v[3] += 1\n",
    "hi = 0\n",
    "pi = [0.2148, 0.3672, 0.2305, 0.1875]\n",
    "i = 0\n",
    "for elem in list_v:\n",
    "    hi += (((elem - 16 * pi[i]) ** 2) / (16 * pi[i]))\n",
    "    i += 1\n",
    "p = scipy.special.gammaincc(3 / 2, hi / 2)\n",
    "print(\"P =\",p)"
   ]
  }
 ],
 "metadata": {
  "kernelspec": {
   "display_name": "Python 3",
   "language": "python",
   "name": "python3"
  },
  "language_info": {
   "codemirror_mode": {
    "name": "ipython",
    "version": 3
   },
   "file_extension": ".py",
   "mimetype": "text/x-python",
   "name": "python",
   "nbconvert_exporter": "python",
   "pygments_lexer": "ipython3",
   "version": "3.10.11"
  },
  "orig_nbformat": 4
 },
 "nbformat": 4,
 "nbformat_minor": 2
}
