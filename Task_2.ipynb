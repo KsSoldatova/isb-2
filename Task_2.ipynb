{
 "cells": [
  {
   "cell_type": "code",
   "execution_count": 1,
   "metadata": {},
   "outputs": [
    {
     "name": "stdout",
     "output_type": "stream",
     "text": [
      "P = 0.857480207220993\n"
     ]
    }
   ],
   "source": [
    "import sys\n",
    "import math\n",
    "\n",
    "\n",
    "sequence = \"01010001110011010011101011010011101101001111010010110000100100010010010111000010011101111111101111000111110000010100000100101011\"\n",
    "n = len(sequence)\n",
    "ratio = 1 / n\n",
    "sum_elem = 0\n",
    "for elem in sequence:\n",
    "    if elem == '1':\n",
    "        sum_elem += 1\n",
    "    if elem == '0':\n",
    "        sum_elem += 0\n",
    "one = ratio * sum_elem\n",
    "if (abs(one - 0.5)) < (2 / math.sqrt(n)) == False:\n",
    "    sys.exit(\"P = 0\")\n",
    "v = 0\n",
    "massiv = list(sequence)\n",
    "for i in range(0, 127):\n",
    "    if massiv[i] == massiv[i + 1]:\n",
    "        v += 0\n",
    "    else:\n",
    "        v += 1\n",
    "p = math.erfc(abs(v - 2 * n * one * (1 - one)) /\n",
    "              (2 * math.sqrt(2 * n) * one * (1 - one)))\n",
    "print(\"P =\", p)"
   ]
  }
 ],
 "metadata": {
  "kernelspec": {
   "display_name": "Python 3",
   "language": "python",
   "name": "python3"
  },
  "language_info": {
   "codemirror_mode": {
    "name": "ipython",
    "version": 3
   },
   "file_extension": ".py",
   "mimetype": "text/x-python",
   "name": "python",
   "nbconvert_exporter": "python",
   "pygments_lexer": "ipython3",
   "version": "3.10.11"
  },
  "orig_nbformat": 4
 },
 "nbformat": 4,
 "nbformat_minor": 2
}
