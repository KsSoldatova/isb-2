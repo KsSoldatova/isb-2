{
 "cells": [
  {
   "cell_type": "code",
   "execution_count": 1,
   "metadata": {},
   "outputs": [
    {
     "name": "stdout",
     "output_type": "stream",
     "text": [
      "P = 0.8596837951986662\n"
     ]
    }
   ],
   "source": [
    "import math\n",
    "\n",
    "sequence = \"00011111010110101001011101010011010101100110000111111110110010010001001001000011001111101011000000100001110011011110010011100101\"\n",
    "n = len(sequence)\n",
    "ratio = (1 / math.sqrt(n))\n",
    "sum_elem = 0\n",
    "for elem in sequence:\n",
    "    if elem == '1':\n",
    "        sum_elem += 1\n",
    "    if elem == '0':\n",
    "        sum_elem += -1\n",
    "s_n = ratio * sum_elem\n",
    "p = math.erfc(s_n / math.sqrt(2))\n",
    "print(\"P =\", p)"
   ]
  }
 ],
 "metadata": {
  "kernelspec": {
   "display_name": "Python 3",
   "language": "python",
   "name": "python3"
  },
  "language_info": {
   "codemirror_mode": {
    "name": "ipython",
    "version": 3
   },
   "file_extension": ".py",
   "mimetype": "text/x-python",
   "name": "python",
   "nbconvert_exporter": "python",
   "pygments_lexer": "ipython3",
   "version": "3.10.11"
  },
  "orig_nbformat": 4
 },
 "nbformat": 4,
 "nbformat_minor": 2
}
